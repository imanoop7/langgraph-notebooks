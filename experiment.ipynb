{
 "cells": [
  {
   "cell_type": "code",
   "execution_count": null,
   "metadata": {},
   "outputs": [],
   "source": [
    "from langchain_ollama import OllamaEmbeddings, OllamaLLM, ChatOllama\n",
    "model = ChatOllama(model=\"llama3.2\", temperature=0)"
   ]
  },
  {
   "cell_type": "code",
   "execution_count": null,
   "metadata": {},
   "outputs": [],
   "source": [
    "from typing import Annotated\n",
    "\n",
    "from typing_extensions import TypedDict\n",
    "\n",
    "from langgraph.graph import StateGraph, START, END\n",
    "from langgraph.graph.message import add_messages\n",
    "\n",
    "\n",
    "class State(TypedDict):\n",
    "    # Messages have the type \"list\". The `add_messages` function\n",
    "    # in the annotation defines how this state key should be updated\n",
    "    # (in this case, it appends messages to the list, rather than overwriting them)\n",
    "    messages: Annotated[list, add_messages]\n",
    "\n",
    "\n",
    "graph_builder = StateGraph(State)"
   ]
  },
  {
   "cell_type": "code",
   "execution_count": null,
   "metadata": {},
   "outputs": [],
   "source": [
    "\n",
    "def chatbot(state: State):\n",
    "    return {\"messages\": [model.invoke(state[\"messages\"])]}\n",
    "\n",
    "\n",
    "# The first argument is the unique node name\n",
    "# The second argument is the function or object that will be called whenever\n",
    "# the node is used.\n",
    "graph_builder.add_node(\"chatbot\", chatbot)"
   ]
  },
  {
   "cell_type": "code",
   "execution_count": null,
   "metadata": {},
   "outputs": [],
   "source": [
    "graph_builder.add_edge(START, \"chatbot\")"
   ]
  },
  {
   "cell_type": "code",
   "execution_count": null,
   "metadata": {},
   "outputs": [],
   "source": [
    "graph_builder.add_edge(\"chatbot\", END)"
   ]
  },
  {
   "cell_type": "code",
   "execution_count": null,
   "metadata": {},
   "outputs": [],
   "source": [
    "graph = graph_builder.compile()"
   ]
  },
  {
   "cell_type": "code",
   "execution_count": null,
   "metadata": {},
   "outputs": [],
   "source": [
    "from IPython.display import Image, display\n",
    "\n",
    "try:\n",
    "    display(Image(graph.get_graph().draw_mermaid_png()))\n",
    "except Exception:\n",
    "    # This requires some extra dependencies and is optional\n",
    "    pass"
   ]
  },
  {
   "cell_type": "code",
   "execution_count": null,
   "metadata": {},
   "outputs": [],
   "source": [
    "def stream_graph_updates(user_input: str):\n",
    "    for event in graph.stream({\"messages\": [(\"user\", user_input)]}):\n",
    "        for value in event.values():\n",
    "            print(\"Assistant:\", value[\"messages\"][-1].content)\n",
    "\n",
    "\n"
   ]
  },
  {
   "cell_type": "code",
   "execution_count": null,
   "metadata": {},
   "outputs": [],
   "source": [
    "while True:\n",
    "    try:\n",
    "        user_input = input(\"User: \")\n",
    "        if user_input.lower() in [\"quit\", \"exit\", \"q\"]:\n",
    "            print(\"Goodbye!\")\n",
    "            break\n",
    "\n",
    "        stream_graph_updates(user_input)\n",
    "    except:\n",
    "        # fallback if input() is not available\n",
    "        user_input = \"What do you know about LangGraph?\"\n",
    "        print(\"User: \" + user_input)\n",
    "        stream_graph_updates(user_input)\n",
    "        break"
   ]
  },
  {
   "cell_type": "code",
   "execution_count": null,
   "metadata": {},
   "outputs": [],
   "source": [
    "from langchain_community.tools import DuckDuckGoSearchRun\n",
    "\n",
    "tool = DuckDuckGoSearchRun()\n",
    "\n",
    "tools = [tool]\n",
    "tool.invoke(\"What's a 'node' in LangGraph?\")"
   ]
  },
  {
   "cell_type": "code",
   "execution_count": null,
   "metadata": {},
   "outputs": [],
   "source": [
    "from typing import Annotated\n",
    "from typing_extensions import TypedDict\n",
    "\n",
    "from langgraph.graph import StateGraph, START, END\n",
    "from langgraph.graph.message import add_messages\n",
    "\n",
    "\n",
    "class State(TypedDict):\n",
    "    messages: Annotated[list, add_messages]\n",
    "\n",
    "\n",
    "graph_builder = StateGraph(State)\n",
    "\n",
    "\n",
    "llm = ChatOllama(model=\"llama3.2\", temperature=0)\n",
    "# Modification: tell the LLM which tools it can call\n",
    "llm_with_tools = llm.bind_tools(tools)\n",
    "\n",
    "\n",
    "def chatbot(state: State):\n",
    "    return {\"messages\": [llm_with_tools.invoke(state[\"messages\"])]}\n",
    "\n",
    "\n",
    "graph_builder.add_node(\"chatbot\", chatbot)"
   ]
  },
  {
   "cell_type": "code",
   "execution_count": null,
   "metadata": {},
   "outputs": [],
   "source": [
    "import json\n",
    "\n",
    "from langchain_core.messages import ToolMessage\n",
    "\n",
    "\n",
    "class BasicToolNode:\n",
    "    \"\"\"A node that runs the tools requested in the last AIMessage.\"\"\"\n",
    "\n",
    "    def __init__(self, tools: list) -> None:\n",
    "        self.tools_by_name = {tool.name: tool for tool in tools}\n",
    "\n",
    "    def __call__(self, inputs: dict):\n",
    "        if messages := inputs.get(\"messages\", []):\n",
    "            message = messages[-1]\n",
    "        else:\n",
    "            raise ValueError(\"No message found in input\")\n",
    "        outputs = []\n",
    "        for tool_call in message.tool_calls:\n",
    "            tool_result = self.tools_by_name[tool_call[\"name\"]].invoke(\n",
    "                tool_call[\"args\"]\n",
    "            )\n",
    "            outputs.append(\n",
    "                ToolMessage(\n",
    "                    content=json.dumps(tool_result),\n",
    "                    name=tool_call[\"name\"],\n",
    "                    tool_call_id=tool_call[\"id\"],\n",
    "                )\n",
    "            )\n",
    "        return {\"messages\": outputs}\n",
    "\n",
    "\n",
    "tool_node = BasicToolNode(tools=[tool])\n",
    "graph_builder.add_node(\"tools\", tool_node)"
   ]
  },
  {
   "cell_type": "code",
   "execution_count": null,
   "metadata": {},
   "outputs": [],
   "source": [
    "from typing import Literal\n",
    "\n",
    "\n",
    "def route_tools(\n",
    "    state: State,\n",
    "):\n",
    "    \"\"\"\n",
    "    Use in the conditional_edge to route to the ToolNode if the last message\n",
    "    has tool calls. Otherwise, route to the end.\n",
    "    \"\"\"\n",
    "    if isinstance(state, list):\n",
    "        ai_message = state[-1]\n",
    "    elif messages := state.get(\"messages\", []):\n",
    "        ai_message = messages[-1]\n",
    "    else:\n",
    "        raise ValueError(f\"No messages found in input state to tool_edge: {state}\")\n",
    "    if hasattr(ai_message, \"tool_calls\") and len(ai_message.tool_calls) > 0:\n",
    "        return \"tools\"\n",
    "    return END\n",
    "\n",
    "\n",
    "# The `tools_condition` function returns \"tools\" if the chatbot asks to use a tool, and \"END\" if\n",
    "# it is fine directly responding. This conditional routing defines the main agent loop.\n",
    "graph_builder.add_conditional_edges(\n",
    "    \"chatbot\",\n",
    "    route_tools,\n",
    "    # The following dictionary lets you tell the graph to interpret the condition's outputs as a specific node\n",
    "    # It defaults to the identity function, but if you\n",
    "    # want to use a node named something else apart from \"tools\",\n",
    "    # You can update the value of the dictionary to something else\n",
    "    # e.g., \"tools\": \"my_tools\"\n",
    "    {\"tools\": \"tools\", END: END},\n",
    ")\n",
    "# Any time a tool is called, we return to the chatbot to decide the next step\n",
    "graph_builder.add_edge(\"tools\", \"chatbot\")\n",
    "graph_builder.add_edge(START, \"chatbot\")\n",
    "graph = graph_builder.compile()"
   ]
  },
  {
   "cell_type": "code",
   "execution_count": null,
   "metadata": {},
   "outputs": [],
   "source": [
    "route_tools({\"messages\": [{\"content\": \"What's a 'node' in LangGraph?\"}]})"
   ]
  },
  {
   "cell_type": "code",
   "execution_count": null,
   "metadata": {},
   "outputs": [],
   "source": [
    "from IPython.display import Image, display\n",
    "\n",
    "try:\n",
    "    display(Image(graph.get_graph().draw_mermaid_png()))\n",
    "except Exception:\n",
    "    # This requires some extra dependencies and is optional\n",
    "    pass"
   ]
  },
  {
   "cell_type": "code",
   "execution_count": null,
   "metadata": {},
   "outputs": [],
   "source": [
    "while True:\n",
    "    try:\n",
    "        user_input = input(\"User: \")\n",
    "        if user_input.lower() in [\"quit\", \"exit\", \"q\"]:\n",
    "            print(\"Goodbye!\")\n",
    "            break\n",
    "\n",
    "        stream_graph_updates(user_input)\n",
    "    except:\n",
    "        # fallback if input() is not available\n",
    "        user_input = \"What do you know about LangGraph?\"\n",
    "        print(\"User: \" + user_input)\n",
    "        stream_graph_updates(user_input)\n",
    "        break"
   ]
  },
  {
   "cell_type": "code",
   "execution_count": 1,
   "metadata": {},
   "outputs": [],
   "source": [
    "from langgraph.checkpoint.memory import MemorySaver\n",
    "\n",
    "memory = MemorySaver()"
   ]
  },
  {
   "cell_type": "code",
   "execution_count": null,
   "metadata": {},
   "outputs": [
    {
     "data": {
      "text/plain": [
       "<langgraph.graph.state.StateGraph at 0x1f1109ed7d0>"
      ]
     },
     "execution_count": 2,
     "metadata": {},
     "output_type": "execute_result"
    }
   ],
   "source": [
    "from typing import Annotated\n",
    "from langchain_ollama import OllamaEmbeddings, OllamaLLM, ChatOllama\n",
    "\n",
    "from langchain_community.tools import DuckDuckGoSearchRun\n",
    "from langchain_core.messages import BaseMessage\n",
    "from typing_extensions import TypedDict\n",
    "\n",
    "from langgraph.graph import StateGraph, START, END\n",
    "from langgraph.graph.message import add_messages\n",
    "from langgraph.prebuilt import ToolNode, tools_condition\n",
    "\n",
    "\n",
    "class State(TypedDict):\n",
    "    messages: Annotated[list, add_messages]\n",
    "\n",
    "\n",
    "graph_builder = StateGraph(State)\n",
    "\n",
    "\n",
    "tool = DuckDuckGoSearchRun(max_results=2)\n",
    "tools = [tool]\n",
    "llm = ChatOllama(model=\"llama3.2\", temperature=0)\n",
    "llm_with_tools = llm.bind_tools(tools)\n",
    "\n",
    "\n",
    "def chatbot(state: State):\n",
    "    return {\"messages\": [llm_with_tools.invoke(state[\"messages\"])]}\n",
    "\n",
    "\n",
    "graph_builder.add_node(\"chatbot\", chatbot)\n",
    "\n",
    "tool_node = ToolNode(tools=[tool])\n",
    "graph_builder.add_node(\"tools\", tool_node)\n",
    "\n",
    "graph_builder.add_conditional_edges(\n",
    "    \"chatbot\",\n",
    "    tools_condition,\n",
    ")\n",
    "# Any time a tool is called, we return to the chatbot to decide the next step\n",
    "graph_builder.add_edge(\"tools\", \"chatbot\")\n",
    "graph_builder.add_edge(START, \"chatbot\")"
   ]
  },
  {
   "cell_type": "code",
   "execution_count": 3,
   "metadata": {},
   "outputs": [],
   "source": [
    "graph = graph_builder.compile(checkpointer=memory)"
   ]
  },
  {
   "cell_type": "code",
   "execution_count": 4,
   "metadata": {},
   "outputs": [
    {
     "data": {
      "image/png": "[encoded data removed]",
      "text/plain": [
       "<IPython.core.display.Image object>"
      ]
     },
     "metadata": {},
     "output_type": "display_data"
    }
   ],
   "source": [
    "from IPython.display import Image, display\n",
    "\n",
    "try:\n",
    "    display(Image(graph.get_graph().draw_mermaid_png()))\n",
    "except Exception:\n",
    "    # This requires some extra dependencies and is optional\n",
    "    pass"
   ]
  },
  {
   "cell_type": "code",
   "execution_count": 5,
   "metadata": {},
   "outputs": [],
   "source": [
    "config = {\"configurable\": {\"thread_id\": \"1\"}}"
   ]
  },
  {
   "cell_type": "code",
   "execution_count": 6,
   "metadata": {},
   "outputs": [
    {
     "name": "stdout",
     "output_type": "stream",
     "text": [
      "================================\u001b[1m Human Message \u001b[0m=================================\n",
      "\n",
      "Hi there! My name is Will.\n",
      "==================================\u001b[1m Ai Message \u001b[0m==================================\n",
      "Tool Calls:\n",
      "  duckduckgo_search (a17c0bd9-48da-4e31-a154-f380dc53eccb)\n",
      " Call ID: a17c0bd9-48da-4e31-a154-f380dc53eccb\n",
      "  Args:\n",
      "    query: What is the meaning of a friendly hello?\n",
      "=================================\u001b[1m Tool Message \u001b[0m=================================\n",
      "Name: duckduckgo_search\n",
      "\n",
      "This is a friendly greeting often associated with Australian culture. It's a way of saying \"hello\" or \"good day\" to someone in a cheerful and informal manner. For example, you might greet a friend by saying, \"Good day mate! How's it going?\" Here are some different ways to say \"hello\" to your good friends and younger relatives. 14. Yo! This funny greeting came from hip-hop culture in 1990s America. It is still commonly used in the US today. ... If you travel to the UK, you will notice that many people use the word \"lovely\" to mean the same as \"fine\" in American English ... Learn the meaning of \"Hi there\" and when to use this casual, friendly greeting. Learn its origins, meaning, appropriate contexts, and alternatives for every communications. ... \"Hi there\" is a casual way to say hello. It's like giving your words a friendly hug. The \"there\" doesn't point to a place it's just there to make things warmer. Regional Variations of Hello in English-Speaking Countries. English speakers in different countries have unique ways of greeting each other. From the casual \"Howdy\" in the USA to the friendly \"G'Day\" in Australia, regional variations of hello add a cultural flair to language and interaction. They're very friendly greetings. You can use them at the beginning of the conversation, or right after the initial \"Hello\". Slang Greetings. Just like any other language, English has its own slang words. There are plenty of slang greetings you can use to sound like a local. They're fun and friendly, completely informal greetings. 11. Yo!\n",
      "==================================\u001b[1m Ai Message \u001b[0m==================================\n",
      "\n",
      "Will, it's great to meet you! A friendly hello is often associated with Australian culture, where it's used as a cheerful and informal way to greet someone. You can also use other greetings like \"Hi there,\" which is a casual way to say hello, or try some regional variations like \"Howdy\" in the USA or \"G'Day\" in Australia. If you want to sound like a local, you could even use some slang greetings like \"Yo!\" Just remember, the most important thing is to be friendly and welcoming when greeting someone!\n"
     ]
    }
   ],
   "source": [
    "user_input = \"Hi there! My name is Will.\"\n",
    "\n",
    "# The config is the **second positional argument** to stream() or invoke()!\n",
    "events = graph.stream(\n",
    "    {\"messages\": [(\"user\", user_input)]}, config, stream_mode=\"values\"\n",
    ")\n",
    "for event in events:\n",
    "    event[\"messages\"][-1].pretty_print()"
   ]
  },
  {
   "cell_type": "code",
   "execution_count": 7,
   "metadata": {},
   "outputs": [
    {
     "name": "stdout",
     "output_type": "stream",
     "text": [
      "================================\u001b[1m Human Message \u001b[0m=================================\n",
      "\n",
      "Remember my name?\n",
      "==================================\u001b[1m Ai Message \u001b[0m==================================\n",
      "Tool Calls:\n",
      "  duckduckgo_search (ad88d3a7-a6d2-48ce-9975-4d889f7e060e)\n",
      " Call ID: ad88d3a7-a6d2-48ce-9975-4d889f7e060e\n",
      "  Args:\n",
      "    query: What is the meaning of a friendly hello?\n",
      "=================================\u001b[1m Tool Message \u001b[0m=================================\n",
      "Name: duckduckgo_search\n",
      "\n",
      "Learn the meaning of \"Hi there\" and when to use this casual, friendly greeting. Learn its origins, meaning, appropriate contexts, and alternatives for every communications. ... \"Hi there\" is a casual way to say hello. It's like giving your words a friendly hug. The \"there\" doesn't point to a place it's just there to make things warmer. This is a friendly greeting often associated with Australian culture. It's a way of saying \"hello\" or \"good day\" to someone in a cheerful and informal manner. For example, you might greet a friend by saying, \"Good day mate! How's it going?\" Here are some different ways to say \"hello\" to your good friends and younger relatives. 14. Yo! This funny greeting came from hip-hop culture in 1990s America. It is still commonly used in the US today. ... If you travel to the UK, you will notice that many people use the word \"lovely\" to mean the same as \"fine\" in American English ... Meaning: \"Hello there!\" is a friendly and somewhat enthusiastic variation of \"hello.\" It adds a touch of warmth and energy to the greeting, making it more engaging. Usage: Versatile greeting suitable for various social situations, including meeting new people or reconnecting with friends. 9. Greetings! Regional Variations of Hello in English-Speaking Countries. English speakers in different countries have unique ways of greeting each other. From the casual \"Howdy\" in the USA to the friendly \"G'Day\" in Australia, regional variations of hello add a cultural flair to language and interaction.\n",
      "==================================\u001b[1m Ai Message \u001b[0m==================================\n",
      "\n",
      "Will! I remember your name now. So, you were asking about the meaning of a friendly hello? Well, it's great to have that conversation again! A friendly hello is all about being warm and welcoming. You can use different greetings like \"Hi there,\" which is a casual way to say hello, or try some regional variations like \"Howdy\" in the USA or \"G'Day\" in Australia. And if you want to sound like a local, you could even use some slang greetings like \"Yo!\" Just remember, the most important thing is to be friendly and welcoming when greeting someone!\n"
     ]
    }
   ],
   "source": [
    "user_input = \"Remember my name?\"\n",
    "\n",
    "# The config is the **second positional argument** to stream() or invoke()!\n",
    "events = graph.stream(\n",
    "    {\"messages\": [(\"user\", user_input)]}, config, stream_mode=\"values\"\n",
    ")\n",
    "for event in events:\n",
    "    event[\"messages\"][-1].pretty_print()"
   ]
  },
  {
   "cell_type": "code",
   "execution_count": 8,
   "metadata": {},
   "outputs": [
    {
     "name": "stdout",
     "output_type": "stream",
     "text": [
      "================================\u001b[1m Human Message \u001b[0m=================================\n",
      "\n",
      "Remember my name?\n",
      "==================================\u001b[1m Ai Message \u001b[0m==================================\n",
      "Tool Calls:\n",
      "  duckduckgo_search (5f4180a2-c200-4065-aa6d-17b24ce7092d)\n",
      " Call ID: 5f4180a2-c200-4065-aa6d-17b24ce7092d\n",
      "  Args:\n",
      "    query: What is the current name of the assistant?\n",
      "=================================\u001b[1m Tool Message \u001b[0m=================================\n",
      "Name: duckduckgo_search\n",
      "\n",
      "Error: RatelimitException('https://links.duckduckgo.com/d.js?q=What+is+the+current+name+of+the+assistant%3F&kl=wt-wt&l=wt-wt&p=&s=0&df=y&vqd=4-316587822729699490587315521878695609962&bing_market=wt-WT&ex=-1 202 Ratelimit')\n",
      " Please fix your mistakes.\n",
      "==================================\u001b[1m Ai Message \u001b[0m==================================\n",
      "\n",
      "Unfortunately, I don't have any information about a previous conversation or user name. Each time you interact with me, it's a new conversation. If you'd like to continue the conversation, I'm here to help! What's on your mind?\n"
     ]
    }
   ],
   "source": [
    "# The only difference is we change the `thread_id` here to \"2\" instead of \"1\"\n",
    "events = graph.stream(\n",
    "    {\"messages\": [(\"user\", user_input)]},\n",
    "    {\"configurable\": {\"thread_id\": \"2\"}},\n",
    "    stream_mode=\"values\",\n",
    ")\n",
    "for event in events:\n",
    "    event[\"messages\"][-1].pretty_print()"
   ]
  },
  {
   "cell_type": "code",
   "execution_count": 9,
   "metadata": {},
   "outputs": [
    {
     "data": {
      "text/plain": [
       "StateSnapshot(values={'messages': [HumanMessage(content='Hi there! My name is Will.', additional_kwargs={}, response_metadata={}, id='1d7be248-796a-4e49-a9f7-f0c4070cc68b'), AIMessage(content='', additional_kwargs={}, response_metadata={'model': 'llama3.2', 'created_at': '2024-12-07T17:12:25.5480326Z', 'done': True, 'done_reason': 'stop', 'total_duration': 17640323600, 'load_duration': 75545100, 'prompt_eval_count': 188, 'prompt_eval_duration': 12276000000, 'eval_count': 27, 'eval_duration': 5285000000, 'message': {'role': 'assistant', 'content': '', 'images': None, 'tool_calls': [{'function': {'name': 'duckduckgo_search', 'arguments': {'query': 'What is the meaning of a friendly hello?'}}}]}}, id='run-f1c86e9f-104e-47a7-8756-2c060a56a172-0', tool_calls=[{'name': 'duckduckgo_search', 'args': {'query': 'What is the meaning of a friendly hello?'}, 'id': 'a17c0bd9-48da-4e31-a154-f380dc53eccb', 'type': 'tool_call'}], usage_metadata={'input_tokens': 188, 'output_tokens': 27, 'total_tokens': 215}), ToolMessage(content='This is a friendly greeting often associated with Australian culture. It\\'s a way of saying \"hello\" or \"good day\" to someone in a cheerful and informal manner. For example, you might greet a friend by saying, \"Good day mate! How\\'s it going?\" Here are some different ways to say \"hello\" to your good friends and younger relatives. 14. Yo! This funny greeting came from hip-hop culture in 1990s America. It is still commonly used in the US today. ... If you travel to the UK, you will notice that many people use the word \"lovely\" to mean the same as \"fine\" in American English ... Learn the meaning of \"Hi there\" and when to use this casual, friendly greeting. Learn its origins, meaning, appropriate contexts, and alternatives for every communications. ... \"Hi there\" is a casual way to say hello. It\\'s like giving your words a friendly hug. The \"there\" doesn\\'t point to a place it\\'s just there to make things warmer. Regional Variations of Hello in English-Speaking Countries. English speakers in different countries have unique ways of greeting each other. From the casual \"Howdy\" in the USA to the friendly \"G\\'Day\" in Australia, regional variations of hello add a cultural flair to language and interaction. They\\'re very friendly greetings. You can use them at the beginning of the conversation, or right after the initial \"Hello\". Slang Greetings. Just like any other language, English has its own slang words. There are plenty of slang greetings you can use to sound like a local. They\\'re fun and friendly, completely informal greetings. 11. Yo!', name='duckduckgo_search', id='9a5e3baa-8ba6-44b4-98a4-523d2dc4e221', tool_call_id='a17c0bd9-48da-4e31-a154-f380dc53eccb'), AIMessage(content='Will, it\\'s great to meet you! A friendly hello is often associated with Australian culture, where it\\'s used as a cheerful and informal way to greet someone. You can also use other greetings like \"Hi there,\" which is a casual way to say hello, or try some regional variations like \"Howdy\" in the USA or \"G\\'Day\" in Australia. If you want to sound like a local, you could even use some slang greetings like \"Yo!\" Just remember, the most important thing is to be friendly and welcoming when greeting someone!', additional_kwargs={}, response_metadata={'model': 'llama3.2', 'created_at': '2024-12-07T17:13:45.0496874Z', 'done': True, 'done_reason': 'stop', 'total_duration': 76961257300, 'load_duration': 82513800, 'prompt_eval_count': 444, 'prompt_eval_duration': 49457000000, 'eval_count': 113, 'eval_duration': 27417000000, 'message': {'role': 'assistant', 'content': 'Will, it\\'s great to meet you! A friendly hello is often associated with Australian culture, where it\\'s used as a cheerful and informal way to greet someone. You can also use other greetings like \"Hi there,\" which is a casual way to say hello, or try some regional variations like \"Howdy\" in the USA or \"G\\'Day\" in Australia. If you want to sound like a local, you could even use some slang greetings like \"Yo!\" Just remember, the most important thing is to be friendly and welcoming when greeting someone!', 'images': None, 'tool_calls': None}}, id='run-5f771af6-d7c8-4422-b377-1cddf72aa36c-0', usage_metadata={'input_tokens': 444, 'output_tokens': 113, 'total_tokens': 557}), HumanMessage(content='Remember my name?', additional_kwargs={}, response_metadata={}, id='1ffe88b8-619e-4524-81f7-69980e966d6f'), AIMessage(content='', additional_kwargs={}, response_metadata={'model': 'llama3.2', 'created_at': '2024-12-07T17:14:40.3086222Z', 'done': True, 'done_reason': 'stop', 'total_duration': 21298590400, 'load_duration': 93455800, 'prompt_eval_count': 693, 'prompt_eval_duration': 15439000000, 'eval_count': 27, 'eval_duration': 5755000000, 'message': {'role': 'assistant', 'content': '', 'images': None, 'tool_calls': [{'function': {'name': 'duckduckgo_search', 'arguments': {'query': 'What is the meaning of a friendly hello?'}}}]}}, id='run-d9aee0a2-0b8c-44da-b1aa-906da40015a7-0', tool_calls=[{'name': 'duckduckgo_search', 'args': {'query': 'What is the meaning of a friendly hello?'}, 'id': 'ad88d3a7-a6d2-48ce-9975-4d889f7e060e', 'type': 'tool_call'}], usage_metadata={'input_tokens': 693, 'output_tokens': 27, 'total_tokens': 720}), ToolMessage(content='Learn the meaning of \"Hi there\" and when to use this casual, friendly greeting. Learn its origins, meaning, appropriate contexts, and alternatives for every communications. ... \"Hi there\" is a casual way to say hello. It\\'s like giving your words a friendly hug. The \"there\" doesn\\'t point to a place it\\'s just there to make things warmer. This is a friendly greeting often associated with Australian culture. It\\'s a way of saying \"hello\" or \"good day\" to someone in a cheerful and informal manner. For example, you might greet a friend by saying, \"Good day mate! How\\'s it going?\" Here are some different ways to say \"hello\" to your good friends and younger relatives. 14. Yo! This funny greeting came from hip-hop culture in 1990s America. It is still commonly used in the US today. ... If you travel to the UK, you will notice that many people use the word \"lovely\" to mean the same as \"fine\" in American English ... Meaning: \"Hello there!\" is a friendly and somewhat enthusiastic variation of \"hello.\" It adds a touch of warmth and energy to the greeting, making it more engaging. Usage: Versatile greeting suitable for various social situations, including meeting new people or reconnecting with friends. 9. Greetings! Regional Variations of Hello in English-Speaking Countries. English speakers in different countries have unique ways of greeting each other. From the casual \"Howdy\" in the USA to the friendly \"G\\'Day\" in Australia, regional variations of hello add a cultural flair to language and interaction.', name='duckduckgo_search', id='fc7b0eb3-a361-4f60-9595-8afeeeecc65f', tool_call_id='ad88d3a7-a6d2-48ce-9975-4d889f7e060e'), AIMessage(content='Will! I remember your name now. So, you were asking about the meaning of a friendly hello? Well, it\\'s great to have that conversation again! A friendly hello is all about being warm and welcoming. You can use different greetings like \"Hi there,\" which is a casual way to say hello, or try some regional variations like \"Howdy\" in the USA or \"G\\'Day\" in Australia. And if you want to sound like a local, you could even use some slang greetings like \"Yo!\" Just remember, the most important thing is to be friendly and welcoming when greeting someone!', additional_kwargs={}, response_metadata={'model': 'llama3.2', 'created_at': '2024-12-07T17:16:02.0880601Z', 'done': True, 'done_reason': 'stop', 'total_duration': 79697412700, 'load_duration': 55742300, 'prompt_eval_count': 937, 'prompt_eval_duration': 50242000000, 'eval_count': 123, 'eval_duration': 29375000000, 'message': {'role': 'assistant', 'content': 'Will! I remember your name now. So, you were asking about the meaning of a friendly hello? Well, it\\'s great to have that conversation again! A friendly hello is all about being warm and welcoming. You can use different greetings like \"Hi there,\" which is a casual way to say hello, or try some regional variations like \"Howdy\" in the USA or \"G\\'Day\" in Australia. And if you want to sound like a local, you could even use some slang greetings like \"Yo!\" Just remember, the most important thing is to be friendly and welcoming when greeting someone!', 'images': None, 'tool_calls': None}}, id='run-fa4e3e46-637c-4205-8a4f-8c4e6896fe70-0', usage_metadata={'input_tokens': 937, 'output_tokens': 123, 'total_tokens': 1060})]}, next=(), config={'configurable': {'thread_id': '1', 'checkpoint_ns': '', 'checkpoint_id': '1efb4bee-f276-6667-8008-11690159569d'}}, metadata={'source': 'loop', 'writes': {'chatbot': {'messages': [AIMessage(content='Will! I remember your name now. So, you were asking about the meaning of a friendly hello? Well, it\\'s great to have that conversation again! A friendly hello is all about being warm and welcoming. You can use different greetings like \"Hi there,\" which is a casual way to say hello, or try some regional variations like \"Howdy\" in the USA or \"G\\'Day\" in Australia. And if you want to sound like a local, you could even use some slang greetings like \"Yo!\" Just remember, the most important thing is to be friendly and welcoming when greeting someone!', additional_kwargs={}, response_metadata={'model': 'llama3.2', 'created_at': '2024-12-07T17:16:02.0880601Z', 'done': True, 'done_reason': 'stop', 'total_duration': 79697412700, 'load_duration': 55742300, 'prompt_eval_count': 937, 'prompt_eval_duration': 50242000000, 'eval_count': 123, 'eval_duration': 29375000000, 'message': {'role': 'assistant', 'content': 'Will! I remember your name now. So, you were asking about the meaning of a friendly hello? Well, it\\'s great to have that conversation again! A friendly hello is all about being warm and welcoming. You can use different greetings like \"Hi there,\" which is a casual way to say hello, or try some regional variations like \"Howdy\" in the USA or \"G\\'Day\" in Australia. And if you want to sound like a local, you could even use some slang greetings like \"Yo!\" Just remember, the most important thing is to be friendly and welcoming when greeting someone!', 'images': None, 'tool_calls': None}}, id='run-fa4e3e46-637c-4205-8a4f-8c4e6896fe70-0', usage_metadata={'input_tokens': 937, 'output_tokens': 123, 'total_tokens': 1060})]}}, 'thread_id': '1', 'step': 8, 'parents': {}}, created_at='2024-12-07T17:16:02.089738+00:00', parent_config={'configurable': {'thread_id': '1', 'checkpoint_ns': '', 'checkpoint_id': '1efb4beb-fa57-6dd5-8007-797245d1128d'}}, tasks=())"
      ]
     },
     "execution_count": 9,
     "metadata": {},
     "output_type": "execute_result"
    }
   ],
   "source": [
    "snapshot = graph.get_state(config)\n",
    "snapshot"
   ]
  },
  {
   "cell_type": "code",
   "execution_count": 3,
   "metadata": {},
   "outputs": [
    {
     "data": {
      "text/plain": [
       "<langgraph.graph.state.StateGraph at 0x1ce64924990>"
      ]
     },
     "execution_count": 3,
     "metadata": {},
     "output_type": "execute_result"
    }
   ],
   "source": [
    "from typing import Annotated\n",
    "\n",
    "from langchain_ollama import ChatOllama\n",
    "from langchain_community.tools import DuckDuckGoSearchRun\n",
    "from typing_extensions import TypedDict\n",
    "\n",
    "from langgraph.checkpoint.memory import MemorySaver\n",
    "from langgraph.graph import StateGraph, START\n",
    "from langgraph.graph.message import add_messages\n",
    "from langgraph.prebuilt import ToolNode, tools_condition\n",
    "\n",
    "memory = MemorySaver()\n",
    "\n",
    "\n",
    "class State(TypedDict):\n",
    "    messages: Annotated[list, add_messages]\n",
    "\n",
    "\n",
    "graph_builder = StateGraph(State)\n",
    "\n",
    "\n",
    "tool = DuckDuckGoSearchRun()\n",
    "tools = [tool]\n",
    "llm = ChatOllama(model=\"llama3.2\", temperature=0)\n",
    "llm_with_tools = llm.bind_tools(tools)\n",
    "\n",
    "\n",
    "def chatbot(state: State):\n",
    "    return {\"messages\": [llm_with_tools.invoke(state[\"messages\"])]}\n",
    "\n",
    "\n",
    "graph_builder.add_node(\"chatbot\", chatbot)\n",
    "\n",
    "tool_node = ToolNode(tools=[tool])\n",
    "graph_builder.add_node(\"tools\", tool_node)\n",
    "\n",
    "graph_builder.add_conditional_edges(\n",
    "    \"chatbot\",\n",
    "    tools_condition,\n",
    ")\n",
    "graph_builder.add_edge(\"tools\", \"chatbot\")\n",
    "graph_builder.add_edge(START, \"chatbot\")"
   ]
  },
  {
   "cell_type": "code",
   "execution_count": 4,
   "metadata": {},
   "outputs": [],
   "source": [
    "graph = graph_builder.compile(\n",
    "    checkpointer=memory,\n",
    "    # This is new!\n",
    "    interrupt_before=[\"tools\"],\n",
    "    # Note: can also interrupt __after__ tools, if desired.\n",
    "    # interrupt_after=[\"tools\"]\n",
    ")"
   ]
  },
  {
   "cell_type": "code",
   "execution_count": 5,
   "metadata": {},
   "outputs": [
    {
     "name": "stdout",
     "output_type": "stream",
     "text": [
      "================================\u001b[1m Human Message \u001b[0m=================================\n",
      "\n",
      "I'm learning LangGraph. Could you do some research on it for me?\n",
      "==================================\u001b[1m Ai Message \u001b[0m==================================\n",
      "Tool Calls:\n",
      "  duckduckgo_search (b164e045-9302-4a17-b70b-d9733ee6b810)\n",
      " Call ID: b164e045-9302-4a17-b70b-d9733ee6b810\n",
      "  Args:\n",
      "    query: LangGraph\n"
     ]
    }
   ],
   "source": [
    "user_input = \"I'm learning LangGraph. Could you do some research on it for me?\"\n",
    "config = {\"configurable\": {\"thread_id\": \"1\"}}\n",
    "# The config is the **second positional argument** to stream() or invoke()!\n",
    "events = graph.stream(\n",
    "    {\"messages\": [(\"user\", user_input)]}, config, stream_mode=\"values\"\n",
    ")\n",
    "for event in events:\n",
    "    if \"messages\" in event:\n",
    "        event[\"messages\"][-1].pretty_print()"
   ]
  },
  {
   "cell_type": "code",
   "execution_count": 6,
   "metadata": {},
   "outputs": [
    {
     "data": {
      "text/plain": [
       "('tools',)"
      ]
     },
     "execution_count": 6,
     "metadata": {},
     "output_type": "execute_result"
    }
   ],
   "source": [
    "snapshot = graph.get_state(config)\n",
    "snapshot.next"
   ]
  },
  {
   "cell_type": "code",
   "execution_count": 7,
   "metadata": {},
   "outputs": [
    {
     "data": {
      "text/plain": [
       "[{'name': 'duckduckgo_search',\n",
       "  'args': {'query': 'LangGraph'},\n",
       "  'id': 'b164e045-9302-4a17-b70b-d9733ee6b810',\n",
       "  'type': 'tool_call'}]"
      ]
     },
     "execution_count": 7,
     "metadata": {},
     "output_type": "execute_result"
    }
   ],
   "source": [
    "existing_message = snapshot.values[\"messages\"][-1]\n",
    "existing_message.tool_calls"
   ]
  },
  {
   "cell_type": "code",
   "execution_count": 8,
   "metadata": {},
   "outputs": [
    {
     "name": "stdout",
     "output_type": "stream",
     "text": [
      "==================================\u001b[1m Ai Message \u001b[0m==================================\n",
      "Tool Calls:\n",
      "  duckduckgo_search (b164e045-9302-4a17-b70b-d9733ee6b810)\n",
      " Call ID: b164e045-9302-4a17-b70b-d9733ee6b810\n",
      "  Args:\n",
      "    query: LangGraph\n",
      "=================================\u001b[1m Tool Message \u001b[0m=================================\n",
      "Name: duckduckgo_search\n",
      "\n",
      "LangGraph, a powerful extension of the LangChain library, is designed to help developers build these advanced AI agents by enabling stateful, multi-actor applications with cyclic computation ... LangGraph is a library within the LangChain ecosystem that simplifies the development of complex, multi-agent large language model (LLM) applications. Learn how to use LangGraph to create stateful, flexible, and scalable systems with nodes, edges, and state management. LangGraph is a versatile tool for building complex, stateful applications with LLMs. By understanding its core concepts and working through simple examples, beginners can start to leverage its ... LangGraph has emerged as a powerful tool for creating cyclical agentic AI workflows. One of the key concepts in LangGraph is the idea of \"state\" — a fundamental building block that allows ... LangGraph doesn't enforce best practices like CrewAI does (for example, role-playing or guardrails). So it can lead to poorer results. I would say that CrewAI is a better framework for newbies and common use cases because it helps you get good results quickly and provides guidance to prevent mistakes.\n",
      "==================================\u001b[1m Ai Message \u001b[0m==================================\n",
      "\n",
      "Based on the research, LangGraph is a powerful library within the LangChain ecosystem that enables the development of complex, multi-agent large language model (LLM) applications. It simplifies the creation of stateful, flexible, and scalable systems with nodes, edges, and state management.\n",
      "\n",
      "LangGraph has emerged as a key tool for building cyclical agentic AI workflows, allowing developers to create complex, stateful applications with LLMs. However, it's essential to note that LangGraph doesn't enforce best practices like CrewAI does, which can lead to poorer results if not used correctly.\n",
      "\n",
      "For beginners and common use cases, CrewAI is a better framework due to its ability to provide guidance and help achieve good results quickly. Nevertheless, LangGraph remains a valuable tool for developers looking to build complex, stateful applications with LLMs.\n"
     ]
    }
   ],
   "source": [
    "# `None` will append nothing new to the current state, letting it resume as if it had never been interrupted\n",
    "events = graph.stream(None, config, stream_mode=\"values\")\n",
    "for event in events:\n",
    "    if \"messages\" in event:\n",
    "        event[\"messages\"][-1].pretty_print()"
   ]
  },
  {
   "cell_type": "code",
   "execution_count": null,
   "metadata": {},
   "outputs": [],
   "source": []
  }
 ],
 "metadata": {
  "kernelspec": {
   "display_name": ".venv",
   "language": "python",
   "name": "python3"
  },
  "language_info": {
   "codemirror_mode": {
    "name": "ipython",
    "version": 3
   },
   "file_extension": ".py",
   "mimetype": "text/x-python",
   "name": "python",
   "nbconvert_exporter": "python",
   "pygments_lexer": "ipython3",
   "version": "3.11.0"
  }
 },
 "nbformat": 4,
 "nbformat_minor": 2
}
